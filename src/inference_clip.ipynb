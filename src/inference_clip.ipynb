{
 "cells": [
  {
   "cell_type": "code",
   "execution_count": 1,
   "metadata": {},
   "outputs": [],
   "source": [
    "# !unzip hotels-50K-sample.zip"
   ]
  },
  {
   "cell_type": "code",
   "execution_count": 2,
   "metadata": {},
   "outputs": [],
   "source": [
    "# !pip install pandas"
   ]
  },
  {
   "cell_type": "code",
   "execution_count": 3,
   "metadata": {},
   "outputs": [],
   "source": [
    "import pandas as pd\n",
    "import csv\n",
    "import os\n",
    "from IPython.display import clear_output, display\n",
    "from PIL import Image\n",
    "from tqdm import tqdm\n",
    "from clip_interrogator import Config, Interrogator"
   ]
  },
  {
   "cell_type": "code",
   "execution_count": 4,
   "metadata": {},
   "outputs": [
    {
     "name": "stdout",
     "output_type": "stream",
     "text": [
      "Loading caption model blip-large...\n",
      "Loading CLIP model ViT-L-14/openai...\n",
      "Loaded CLIP model and data in 6.27 seconds.\n"
     ]
    }
   ],
   "source": [
    "caption_model_name = 'blip-large'\n",
    "clip_model_name = 'ViT-L-14/openai'\n",
    "\n",
    "prompt_mode = 'best'\n",
    "\n",
    "config = Config()\n",
    "config.clip_model_name = clip_model_name\n",
    "config.caption_model_name = caption_model_name\n",
    "ci = Interrogator(config)\n",
    "\n",
    "def image_analysis(image):\n",
    "    image = image.convert('RGB')\n",
    "    image_features = ci.image_to_features(image)\n",
    "\n",
    "    top_mediums = ci.mediums.rank(image_features, 5)\n",
    "    top_artists = ci.artists.rank(image_features, 5)\n",
    "    top_movements = ci.movements.rank(image_features, 5)\n",
    "    top_trendings = ci.trendings.rank(image_features, 5)\n",
    "    top_flavors = ci.flavors.rank(image_features, 5)\n",
    "\n",
    "    medium_ranks = {medium: sim for medium, sim in zip(top_mediums, ci.similarities(image_features, top_mediums))}\n",
    "    artist_ranks = {artist: sim for artist, sim in zip(top_artists, ci.similarities(image_features, top_artists))}\n",
    "    movement_ranks = {movement: sim for movement, sim in zip(top_movements, ci.similarities(image_features, top_movements))}\n",
    "    trending_ranks = {trending: sim for trending, sim in zip(top_trendings, ci.similarities(image_features, top_trendings))}\n",
    "    flavor_ranks = {flavor: sim for flavor, sim in zip(top_flavors, ci.similarities(image_features, top_flavors))}\n",
    "\n",
    "    return medium_ranks, artist_ranks, movement_ranks, trending_ranks, flavor_ranks\n",
    "\n",
    "def image_to_prompt(image, mode):\n",
    "    ci.config.chunk_size = 2048 if ci.config.clip_model_name == \"ViT-L-14/openai\" else 1024\n",
    "    ci.config.flavor_intermediate_count = 2048 if ci.config.clip_model_name == \"ViT-L-14/openai\" else 1024\n",
    "    image = image.convert('RGB')\n",
    "    if mode == 'best':\n",
    "        return ci.interrogate(image)\n",
    "    elif mode == 'classic':\n",
    "        return ci.interrogate_classic(image)\n",
    "    elif mode == 'fast':\n",
    "        return ci.interrogate_fast(image)\n",
    "    elif mode == 'negative':\n",
    "        return ci.interrogate_negative(image)"
   ]
  },
  {
   "cell_type": "code",
   "execution_count": 7,
   "metadata": {},
   "outputs": [
    {
     "data": {
      "text/html": [
       "<div>\n",
       "<style scoped>\n",
       "    .dataframe tbody tr th:only-of-type {\n",
       "        vertical-align: middle;\n",
       "    }\n",
       "\n",
       "    .dataframe tbody tr th {\n",
       "        vertical-align: top;\n",
       "    }\n",
       "\n",
       "    .dataframe thead th {\n",
       "        text-align: right;\n",
       "    }\n",
       "</style>\n",
       "<table border=\"1\" class=\"dataframe\">\n",
       "  <thead>\n",
       "    <tr style=\"text-align: right;\">\n",
       "      <th></th>\n",
       "      <th>image_id</th>\n",
       "      <th>hotel_id</th>\n",
       "      <th>url</th>\n",
       "      <th>source</th>\n",
       "      <th>timestamp</th>\n",
       "      <th>hotel_name</th>\n",
       "      <th>chain_id</th>\n",
       "      <th>latitude</th>\n",
       "      <th>longitude</th>\n",
       "      <th>chain_name</th>\n",
       "      <th>downloaded</th>\n",
       "      <th>image_name</th>\n",
       "      <th>image_folder</th>\n",
       "    </tr>\n",
       "  </thead>\n",
       "  <tbody>\n",
       "    <tr>\n",
       "      <th>0</th>\n",
       "      <td>3918396</td>\n",
       "      <td>104555</td>\n",
       "      <td>https://traffickcam.com/images/2019/2/20180127...</td>\n",
       "      <td>traffickcam</td>\n",
       "      <td>1/27/18 20:55</td>\n",
       "      <td>Hilton Dallas Plano Granite Park</td>\n",
       "      <td>3</td>\n",
       "      <td>33.08815</td>\n",
       "      <td>-96.82055</td>\n",
       "      <td>Hilton</td>\n",
       "      <td>True</td>\n",
       "      <td>3918396.jpg</td>\n",
       "      <td>hotels-50k/images/train/3/104555/traffickcam</td>\n",
       "    </tr>\n",
       "    <tr>\n",
       "      <th>1</th>\n",
       "      <td>3919007</td>\n",
       "      <td>104555</td>\n",
       "      <td>https://traffickcam.com/images/2019/2/20180131...</td>\n",
       "      <td>traffickcam</td>\n",
       "      <td>1/31/18 0:47</td>\n",
       "      <td>Hilton Dallas Plano Granite Park</td>\n",
       "      <td>3</td>\n",
       "      <td>33.08815</td>\n",
       "      <td>-96.82055</td>\n",
       "      <td>Hilton</td>\n",
       "      <td>True</td>\n",
       "      <td>3919007.jpg</td>\n",
       "      <td>hotels-50k/images/train/3/104555/traffickcam</td>\n",
       "    </tr>\n",
       "    <tr>\n",
       "      <th>2</th>\n",
       "      <td>3960051</td>\n",
       "      <td>104555</td>\n",
       "      <td>https://traffickcam.com/images/2019/9/20180819...</td>\n",
       "      <td>traffickcam</td>\n",
       "      <td>8/19/18 22:12</td>\n",
       "      <td>Hilton Dallas Plano Granite Park</td>\n",
       "      <td>3</td>\n",
       "      <td>33.08815</td>\n",
       "      <td>-96.82055</td>\n",
       "      <td>Hilton</td>\n",
       "      <td>True</td>\n",
       "      <td>3960051.jpg</td>\n",
       "      <td>hotels-50k/images/train/3/104555/traffickcam</td>\n",
       "    </tr>\n",
       "    <tr>\n",
       "      <th>3</th>\n",
       "      <td>8473367</td>\n",
       "      <td>104555</td>\n",
       "      <td>https://i.travelapi.com/hotels/8000000/7600000...</td>\n",
       "      <td>travel_website</td>\n",
       "      <td>2019-12-22 06:01:36</td>\n",
       "      <td>Hilton Dallas Plano Granite Park</td>\n",
       "      <td>3</td>\n",
       "      <td>33.08815</td>\n",
       "      <td>-96.82055</td>\n",
       "      <td>Hilton</td>\n",
       "      <td>True</td>\n",
       "      <td>8473367.jpg</td>\n",
       "      <td>hotels-50k/images/train/3/104555/travel_website</td>\n",
       "    </tr>\n",
       "    <tr>\n",
       "      <th>4</th>\n",
       "      <td>8473368</td>\n",
       "      <td>104555</td>\n",
       "      <td>https://i.travelapi.com/hotels/8000000/7600000...</td>\n",
       "      <td>travel_website</td>\n",
       "      <td>2019-12-22 06:01:36</td>\n",
       "      <td>Hilton Dallas Plano Granite Park</td>\n",
       "      <td>3</td>\n",
       "      <td>33.08815</td>\n",
       "      <td>-96.82055</td>\n",
       "      <td>Hilton</td>\n",
       "      <td>True</td>\n",
       "      <td>8473368.jpg</td>\n",
       "      <td>hotels-50k/images/train/3/104555/travel_website</td>\n",
       "    </tr>\n",
       "  </tbody>\n",
       "</table>\n",
       "</div>"
      ],
      "text/plain": [
       "   image_id  hotel_id                                                url  \\\n",
       "0   3918396    104555  https://traffickcam.com/images/2019/2/20180127...   \n",
       "1   3919007    104555  https://traffickcam.com/images/2019/2/20180131...   \n",
       "2   3960051    104555  https://traffickcam.com/images/2019/9/20180819...   \n",
       "3   8473367    104555  https://i.travelapi.com/hotels/8000000/7600000...   \n",
       "4   8473368    104555  https://i.travelapi.com/hotels/8000000/7600000...   \n",
       "\n",
       "           source            timestamp                        hotel_name  \\\n",
       "0     traffickcam        1/27/18 20:55  Hilton Dallas Plano Granite Park   \n",
       "1     traffickcam         1/31/18 0:47  Hilton Dallas Plano Granite Park   \n",
       "2     traffickcam        8/19/18 22:12  Hilton Dallas Plano Granite Park   \n",
       "3  travel_website  2019-12-22 06:01:36  Hilton Dallas Plano Granite Park   \n",
       "4  travel_website  2019-12-22 06:01:36  Hilton Dallas Plano Granite Park   \n",
       "\n",
       "   chain_id  latitude  longitude chain_name  downloaded   image_name  \\\n",
       "0         3  33.08815  -96.82055     Hilton        True  3918396.jpg   \n",
       "1         3  33.08815  -96.82055     Hilton        True  3919007.jpg   \n",
       "2         3  33.08815  -96.82055     Hilton        True  3960051.jpg   \n",
       "3         3  33.08815  -96.82055     Hilton        True  8473367.jpg   \n",
       "4         3  33.08815  -96.82055     Hilton        True  8473368.jpg   \n",
       "\n",
       "                                      image_folder  \n",
       "0     hotels-50k/images/train/3/104555/traffickcam  \n",
       "1     hotels-50k/images/train/3/104555/traffickcam  \n",
       "2     hotels-50k/images/train/3/104555/traffickcam  \n",
       "3  hotels-50k/images/train/3/104555/travel_website  \n",
       "4  hotels-50k/images/train/3/104555/travel_website  "
      ]
     },
     "execution_count": 7,
     "metadata": {},
     "output_type": "execute_result"
    }
   ],
   "source": [
    "df = pd.read_csv(\"/home/docker_current/src/hotels-50k/sample.csv\")\n",
    "df.head()"
   ]
  },
  {
   "cell_type": "code",
   "execution_count": 8,
   "metadata": {},
   "outputs": [],
   "source": [
    "from tqdm import tqdm"
   ]
  },
  {
   "cell_type": "code",
   "execution_count": 11,
   "metadata": {},
   "outputs": [
    {
     "name": "stderr",
     "output_type": "stream",
     "text": [
      "100%|██████████| 55/55 [00:00<00:00, 287.52it/s]\n",
      "Flavor chain:  28%|██▊       | 9/32 [00:14<00:36,  1.57s/it]\n",
      "100%|██████████| 55/55 [00:00<00:00, 282.29it/s]\n",
      "100%|██████████| 6/6 [00:00<00:00, 207.50it/s]\n",
      "100%|██████████| 50/50 [00:00<00:00, 282.84it/s]\n",
      "100%|██████████| 55/55 [00:00<00:00, 283.43it/s]\n",
      "Flavor chain:  38%|███▊      | 12/32 [00:18<00:30,  1.53s/it]\n",
      "100%|██████████| 55/55 [00:00<00:00, 281.06it/s]\n",
      "100%|██████████| 6/6 [00:00<00:00, 210.13it/s]\n",
      "100%|██████████| 50/50 [00:00<00:00, 283.81it/s]\n",
      "100%|██████████| 55/55 [00:00<00:00, 284.67it/s]\n",
      "Flavor chain:  41%|████      | 13/32 [00:20<00:29,  1.57s/it]\n",
      "100%|██████████| 55/55 [00:00<00:00, 281.64it/s]\n",
      "100%|██████████| 6/6 [00:00<00:00, 193.56it/s]\n",
      "100%|██████████| 50/50 [00:00<00:00, 279.47it/s]\n",
      "100%|██████████| 55/55 [00:00<00:00, 198.37it/s]\n",
      "Flavor chain:  44%|████▍     | 14/32 [00:21<00:27,  1.54s/it]\n",
      "100%|██████████| 55/55 [00:00<00:00, 272.17it/s]\n",
      "100%|██████████| 6/6 [00:00<00:00, 197.12it/s]\n",
      "100%|██████████| 50/50 [00:00<00:00, 280.91it/s]\n",
      "100%|██████████| 55/55 [00:00<00:00, 283.37it/s]\n",
      "Flavor chain:  34%|███▍      | 11/32 [00:17<00:32,  1.56s/it]\n",
      "100%|██████████| 55/55 [00:00<00:00, 279.59it/s]\n",
      "100%|██████████| 6/6 [00:00<00:00, 191.17it/s]\n",
      "100%|██████████| 50/50 [00:00<00:00, 280.35it/s]\n",
      "100%|██████████| 55/55 [00:00<00:00, 279.40it/s]\n",
      "Flavor chain:  44%|████▍     | 14/32 [00:22<00:28,  1.57s/it]\n",
      "100%|██████████| 55/55 [00:00<00:00, 268.08it/s]\n",
      "100%|██████████| 6/6 [00:00<00:00, 205.37it/s]\n",
      "100%|██████████| 50/50 [00:00<00:00, 283.95it/s]\n",
      "100%|██████████| 55/55 [00:00<00:00, 281.66it/s]\n",
      "Flavor chain:  38%|███▊      | 12/32 [00:18<00:30,  1.54s/it]\n",
      "100%|██████████| 55/55 [00:00<00:00, 190.53it/s]\n",
      "100%|██████████| 6/6 [00:00<00:00, 196.64it/s]\n",
      "100%|██████████| 50/50 [00:00<00:00, 290.18it/s]\n",
      "100%|██████████| 55/55 [00:00<00:00, 282.67it/s]\n",
      "Flavor chain:  34%|███▍      | 11/32 [00:17<00:33,  1.57s/it]\n",
      "100%|██████████| 55/55 [00:00<00:00, 283.79it/s]\n",
      "100%|██████████| 6/6 [00:00<00:00, 206.88it/s]\n",
      "100%|██████████| 50/50 [00:00<00:00, 289.36it/s]\n",
      "8it [02:37, 19.66s/it]\n"
     ]
    },
    {
     "ename": "TypeError",
     "evalue": "can only concatenate str (not \"float\") to str",
     "output_type": "error",
     "traceback": [
      "\u001b[0;31m---------------------------------------------------------------------------\u001b[0m",
      "\u001b[0;31mTypeError\u001b[0m                                 Traceback (most recent call last)",
      "Cell \u001b[0;32mIn[11], line 4\u001b[0m\n\u001b[1;32m      1\u001b[0m prompts \u001b[39m=\u001b[39m []\n\u001b[1;32m      3\u001b[0m \u001b[39mfor\u001b[39;00m row \u001b[39min\u001b[39;00m tqdm(df\u001b[39m.\u001b[39miloc()):\n\u001b[0;32m----> 4\u001b[0m     im_path \u001b[39m=\u001b[39m \u001b[39m\"\u001b[39;49m\u001b[39m/home/docker_current/src/\u001b[39;49m\u001b[39m\"\u001b[39;49m \u001b[39m+\u001b[39;49m  row[\u001b[39m\"\u001b[39;49m\u001b[39mimage_folder\u001b[39;49m\u001b[39m\"\u001b[39;49m] \u001b[39m+\u001b[39m \u001b[39m\"\u001b[39m\u001b[39m/\u001b[39m\u001b[39m\"\u001b[39m \u001b[39m+\u001b[39m row[\u001b[39m\"\u001b[39m\u001b[39mimage_name\u001b[39m\u001b[39m\"\u001b[39m]\n\u001b[1;32m      5\u001b[0m     image \u001b[39m=\u001b[39m Image\u001b[39m.\u001b[39mopen(im_path)\u001b[39m.\u001b[39mconvert(\u001b[39m'\u001b[39m\u001b[39mRGB\u001b[39m\u001b[39m'\u001b[39m)\n\u001b[1;32m      6\u001b[0m     prompt \u001b[39m=\u001b[39m image_to_prompt(image, prompt_mode)\n",
      "\u001b[0;31mTypeError\u001b[0m: can only concatenate str (not \"float\") to str"
     ]
    }
   ],
   "source": [
    "prompts = []\n",
    "\n",
    "for row in tqdm(df.iloc()):\n",
    "    if row[\"downloaded\"] if True:\n",
    "        im_path = \"/home/docker_current/src/\" +  row[\"image_folder\"] + \"/\" + row[\"image_name\"]\n",
    "        image = Image.open(im_path).convert('RGB')\n",
    "        prompt = image_to_prompt(image, prompt_mode)\n",
    "        prompts.append(prompt)\n",
    "    else:\n",
    "        prompts.append(None)\n"
   ]
  },
  {
   "cell_type": "code",
   "execution_count": 12,
   "metadata": {},
   "outputs": [
    {
     "data": {
      "text/plain": [
       "image_id                                                  8473372\n",
       "hotel_id                                                   104555\n",
       "url             https://i.travelapi.com/hotels/8000000/7600000...\n",
       "source                                             travel_website\n",
       "timestamp                                     2019-12-22 06:01:36\n",
       "hotel_name                       Hilton Dallas Plano Granite Park\n",
       "chain_id                                                        3\n",
       "latitude                                                 33.08815\n",
       "longitude                                               -96.82055\n",
       "chain_name                                                 Hilton\n",
       "downloaded                                                  False\n",
       "image_name                                                    NaN\n",
       "image_folder                                                  NaN\n",
       "Name: 8, dtype: object"
      ]
     },
     "execution_count": 12,
     "metadata": {},
     "output_type": "execute_result"
    }
   ],
   "source": [
    "row"
   ]
  },
  {
   "cell_type": "code",
   "execution_count": 14,
   "metadata": {},
   "outputs": [
    {
     "data": {
      "text/plain": [
       "False"
      ]
     },
     "execution_count": 14,
     "metadata": {},
     "output_type": "execute_result"
    }
   ],
   "source": [
    "row[\"downloaded\"] is True"
   ]
  },
  {
   "cell_type": "code",
   "execution_count": null,
   "metadata": {},
   "outputs": [],
   "source": []
  }
 ],
 "metadata": {
  "kernelspec": {
   "display_name": "Python 3 (ipykernel)",
   "language": "python",
   "name": "python3"
  },
  "language_info": {
   "codemirror_mode": {
    "name": "ipython",
    "version": 3
   },
   "file_extension": ".py",
   "mimetype": "text/x-python",
   "name": "python",
   "nbconvert_exporter": "python",
   "pygments_lexer": "ipython3",
   "version": "3.10.12"
  },
  "orig_nbformat": 4
 },
 "nbformat": 4,
 "nbformat_minor": 2
}
